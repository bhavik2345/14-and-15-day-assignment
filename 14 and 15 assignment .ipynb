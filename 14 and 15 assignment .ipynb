{
 "cells": [
  {
   "cell_type": "code",
   "execution_count": 2,
   "metadata": {},
   "outputs": [
    {
     "name": "stdout",
     "output_type": "stream",
     "text": [
      "[[[0.23496994 0.65868406 0.15611448]\n",
      "  [0.39301176 0.64874339 0.94423213]\n",
      "  [0.72734862 0.57704233 0.7942513 ]]\n",
      "\n",
      " [[0.70137511 0.29104261 0.64315527]\n",
      "  [0.8048432  0.14520033 0.10065827]\n",
      "  [0.10051592 0.68080361 0.25479146]]\n",
      "\n",
      " [[0.81373026 0.58705603 0.26163638]\n",
      "  [0.35141693 0.3638101  0.5606498 ]\n",
      "  [0.00128513 0.70826375 0.11320304]]]\n"
     ]
    }
   ],
   "source": [
    "import numpy as np\n",
    "x = np.random.random((3,3,3))\n",
    "print(x)"
   ]
  },
  {
   "cell_type": "code",
   "execution_count": 3,
   "metadata": {},
   "outputs": [
    {
     "name": "stdout",
     "output_type": "stream",
     "text": [
      "[[1 0 0 0 0]\n",
      " [0 2 0 0 0]\n",
      " [0 0 3 0 0]\n",
      " [0 0 0 4 0]\n",
      " [0 0 0 0 5]]\n"
     ]
    }
   ],
   "source": [
    "x = np.diag([1, 2, 3, 4, 5])\n",
    "print(x)"
   ]
  },
  {
   "cell_type": "code",
   "execution_count": 4,
   "metadata": {},
   "outputs": [
    {
     "name": "stdout",
     "output_type": "stream",
     "text": [
      "Checkerboard pattern:\n",
      "[[0 1 0 1 0 1 0 1]\n",
      " [1 0 1 0 1 0 1 0]\n",
      " [0 1 0 1 0 1 0 1]\n",
      " [1 0 1 0 1 0 1 0]\n",
      " [0 1 0 1 0 1 0 1]\n",
      " [1 0 1 0 1 0 1 0]\n",
      " [0 1 0 1 0 1 0 1]\n",
      " [1 0 1 0 1 0 1 0]]\n"
     ]
    }
   ],
   "source": [
    "x = np.ones((3,3))\n",
    "print(\"Checkerboard pattern:\")\n",
    "x = np.zeros((8,8),dtype=int)\n",
    "x[1::2,::2] = 1\n",
    "x[::2,1::2] = 1\n",
    "print(x)"
   ]
  },
  {
   "cell_type": "code",
   "execution_count": 5,
   "metadata": {},
   "outputs": [
    {
     "name": "stdout",
     "output_type": "stream",
     "text": [
      "Original Array:\n",
      "[[0.31495964 0.96051897 0.43705827]\n",
      " [0.20775093 0.6765146  0.69780803]\n",
      " [0.09090475 0.11795116 0.26507552]]\n",
      "After normalization:\n",
      "[[0.25764861 1.         0.39805411]\n",
      " [0.13436554 0.67341338 0.69789945]\n",
      " [0.         0.03110162 0.2002851 ]]\n"
     ]
    }
   ],
   "source": [
    "x= np.random.random((3,3))\n",
    "print(\"Original Array:\")\n",
    "print(x)\n",
    "xmax, xmin = x.max(), x.min()\n",
    "x = (x - xmin)/(xmax - xmin)\n",
    "print(\"After normalization:\")\n",
    "print(x)"
   ]
  },
  {
   "cell_type": "code",
   "execution_count": 6,
   "metadata": {},
   "outputs": [
    {
     "name": "stdout",
     "output_type": "stream",
     "text": [
      "Array1:  [ 0 10 20 40 70]\n",
      "Array2:  [10, 30, 40, 70]\n",
      "Common values between two arrays:\n",
      "[10 40 70]\n"
     ]
    }
   ],
   "source": [
    "array1 = np.array([0, 10, 20, 40, 70])\n",
    "print(\"Array1: \",array1)\n",
    "array2 = [10, 30, 40,70]\n",
    "print(\"Array2: \",array2)\n",
    "print(\"Common values between two arrays:\")\n",
    "print(np.intersect1d(array1, array2))"
   ]
  },
  {
   "cell_type": "code",
   "execution_count": 7,
   "metadata": {},
   "outputs": [
    {
     "name": "stdout",
     "output_type": "stream",
     "text": [
      "Yestraday:  2020-07-24\n",
      "Today:  2020-07-25\n",
      "Tomorrow:  2020-07-26\n"
     ]
    }
   ],
   "source": [
    "yesterday = np.datetime64('today', 'D') - np.timedelta64(1, 'D')\n",
    "print(\"Yestraday: \",yesterday)\n",
    "today     = np.datetime64('today', 'D')\n",
    "print(\"Today: \",today)\n",
    "tomorrow  = np.datetime64('today', 'D') + np.timedelta64(1, 'D')\n",
    "print(\"Tomorrow: \",tomorrow)"
   ]
  },
  {
   "cell_type": "code",
   "execution_count": 8,
   "metadata": {},
   "outputs": [
    {
     "name": "stdout",
     "output_type": "stream",
     "text": [
      "First array:\n",
      "[1 0 1 0 1 0]\n",
      "Second array:\n",
      "[0 1 0 1 1 0]\n",
      "Test above two arrays are equal or not!\n",
      "False\n"
     ]
    }
   ],
   "source": [
    "x = np.random.randint(0,2,6)\n",
    "print(\"First array:\")\n",
    "print(x)\n",
    "y = np.random.randint(0,2,6)\n",
    "print(\"Second array:\")\n",
    "print(y)\n",
    "print(\"Test above two arrays are equal or not!\")\n",
    "array_equal = np.allclose(x, y)\n",
    "print(array_equal)"
   ]
  },
  {
   "cell_type": "code",
   "execution_count": 9,
   "metadata": {},
   "outputs": [
    {
     "name": "stdout",
     "output_type": "stream",
     "text": [
      "Original array:\n",
      "[0.91101835 0.76145418 0.289275   0.47455723 0.73100417 0.03549279\n",
      " 0.66924668 0.36500354 0.57649139 0.31541642 0.80830153 0.13762536\n",
      " 0.87625478 0.75368296 0.24539463]\n",
      "Maximum value replaced by -1:\n",
      "[-1.          0.76145418  0.289275    0.47455723  0.73100417  0.03549279\n",
      "  0.66924668  0.36500354  0.57649139  0.31541642  0.80830153  0.13762536\n",
      "  0.87625478  0.75368296  0.24539463]\n"
     ]
    }
   ],
   "source": [
    "x = np.random.random(15)\n",
    "print(\"Original array:\")\n",
    "print(x)\n",
    "x[x.argmax()] = -1\n",
    "print(\"Maximum value replaced by -1:\")\n",
    "print(x)"
   ]
  },
  {
   "cell_type": "code",
   "execution_count": 10,
   "metadata": {},
   "outputs": [
    {
     "name": "stdout",
     "output_type": "stream",
     "text": [
      "[[0. 0. 0. 0.]\n",
      " [0. 0. 0. 0.]\n",
      " [0. 0. 0. 0.]\n",
      " [0. 0. 0. 0.]]\n"
     ]
    }
   ],
   "source": [
    "np.set_printoptions(threshold=np.inf)\n",
    "x = np.zeros((4, 4))\n",
    "print(x)"
   ]
  },
  {
   "cell_type": "code",
   "execution_count": 11,
   "metadata": {},
   "outputs": [
    {
     "name": "stdout",
     "output_type": "stream",
     "text": [
      "Original matrix:\n",
      "\n",
      "[[0.04515037 0.77752427 0.01341928 0.77732649 0.93534346 0.68763052\n",
      "  0.93857467 0.05693786 0.37656511 0.33414564]\n",
      " [0.04945211 0.01793002 0.82013736 0.43219898 0.05357706 0.52471667\n",
      "  0.37808954 0.62807853 0.03137933 0.73536342]\n",
      " [0.543406   0.25446201 0.48371163 0.66861    0.5158191  0.36982498\n",
      "  0.16300928 0.21676584 0.14257994 0.58143413]\n",
      " [0.16642051 0.48689209 0.29129848 0.01586036 0.60335391 0.05191682\n",
      "  0.80710554 0.2908361  0.60569661 0.45745967]\n",
      " [0.70769299 0.78574215 0.15799783 0.93135791 0.56350889 0.96621526\n",
      "  0.41181853 0.38652382 0.6190165  0.0682778 ]]\n",
      "\n",
      "Subtract the mean of each row of the said matrix:\n",
      "\n",
      "[[-0.4491114   0.2832625  -0.48084249  0.28306473  0.44108169  0.19336875\n",
      "   0.4443129  -0.43732391 -0.11769665 -0.16011613]\n",
      " [-0.31764019 -0.34916228  0.45304506  0.06510668 -0.31351524  0.15762437\n",
      "   0.01099724  0.26098622 -0.33571297  0.36827111]\n",
      " [ 0.14944371 -0.13950029  0.08974934  0.27464771  0.12185681 -0.02413731\n",
      "  -0.23095301 -0.17719645 -0.25138235  0.18747184]\n",
      " [-0.21126349  0.10920808 -0.08638553 -0.36182365  0.2256699  -0.32576719\n",
      "   0.42942153 -0.08684791  0.22801261  0.07977566]\n",
      " [ 0.14787782  0.22592698 -0.40181734  0.37154274  0.00369372  0.40640009\n",
      "  -0.14799664 -0.17329135  0.05920133 -0.49153737]]\n"
     ]
    }
   ],
   "source": [
    "print(\"Original matrix:\\n\")\n",
    "X = np.random.rand(5, 10)\n",
    "print(X)\n",
    "print(\"\\nSubtract the mean of each row of the said matrix:\\n\")\n",
    "Y = X - X.mean(axis=1, keepdims=True)\n",
    "print(Y)"
   ]
  },
  {
   "cell_type": "code",
   "execution_count": 12,
   "metadata": {},
   "outputs": [
    {
     "name": "stdout",
     "output_type": "stream",
     "text": [
      "(1, 'Red', 12.2)\n",
      "(2, 'Green', 15.)\n",
      "(3, 'White', 20.)\n"
     ]
    }
   ],
   "source": [
    "a1=np.array([1,2,3,4])\n",
    "a2=np.array(['Red','Green','White','Orange'])\n",
    "a3=np.array([12.20,15,20,40])\n",
    "result= np.core.records.fromarrays([a1, a2, a3],names='a,b,c')\n",
    "print(result[0])\n",
    "print(result[1])\n",
    "print(result[2])\n"
   ]
  },
  {
   "cell_type": "code",
   "execution_count": 13,
   "metadata": {},
   "outputs": [
    {
     "name": "stdout",
     "output_type": "stream",
     "text": [
      "Original array:\n",
      "[0 1 2 3 4 5 6 7 8 9]\n",
      "[9]\n"
     ]
    }
   ],
   "source": [
    "x = np.arange(10)\n",
    "print(\"Original array:\")\n",
    "print(x)\n",
    "np.random.shuffle(x)\n",
    "n = 1\n",
    "print (x[np.argsort(x)[-n:]])"
   ]
  },
  {
   "cell_type": "code",
   "execution_count": 14,
   "metadata": {},
   "outputs": [
    {
     "name": "stdout",
     "output_type": "stream",
     "text": [
      "Original array:\n",
      "[6 9 7 6 4 5 6 7 0 5 3 7 6 7 2 2 4 9 7 4 9 1 9 6 3 2 0 5 0 9 3 7 9 8 8 6 3\n",
      " 4 0 6]\n",
      "Most frequent value in the above array:\n",
      "6\n"
     ]
    }
   ],
   "source": [
    "x = np.random.randint(0, 10, 40)\n",
    "print(\"Original array:\")\n",
    "print(x)\n",
    "print(\"Most frequent value in the above array:\")\n",
    "print(np.bincount(x).argmax())"
   ]
  },
  {
   "cell_type": "code",
   "execution_count": 16,
   "metadata": {},
   "outputs": [
    {
     "data": {
      "text/plain": [
       "array([ 36, 128,  82])"
      ]
     },
     "execution_count": 16,
     "metadata": {},
     "output_type": "execute_result"
    }
   ],
   "source": [
    "A = np.random.randint(0,10,(3,3))\n",
    "B= np.random.randint(0,10,(3,3))\n",
    "np.diag(np.dot(A, B))\n",
    "np.sum(A * B.T, axis=1)\n",
    "np.einsum(\"ij,ji->i\", A, B)"
   ]
  },
  {
   "cell_type": "code",
   "execution_count": 17,
   "metadata": {},
   "outputs": [
    {
     "name": "stdout",
     "output_type": "stream",
     "text": [
      "[5. 3. 1. 2. 5. 3. 3. 1. 2. 5.]\n"
     ]
    }
   ],
   "source": [
    "Z = np.ones(10)\n",
    "I = np.random.randint(0,len(Z),20)\n",
    "Z += np.bincount(I, minlength=len(Z))\n",
    "print(Z)"
   ]
  },
  {
   "cell_type": "code",
   "execution_count": null,
   "metadata": {},
   "outputs": [],
   "source": []
  }
 ],
 "metadata": {
  "kernelspec": {
   "display_name": "Python 3",
   "language": "python",
   "name": "python3"
  },
  "language_info": {
   "codemirror_mode": {
    "name": "ipython",
    "version": 3
   },
   "file_extension": ".py",
   "mimetype": "text/x-python",
   "name": "python",
   "nbconvert_exporter": "python",
   "pygments_lexer": "ipython3",
   "version": "3.7.6"
  }
 },
 "nbformat": 4,
 "nbformat_minor": 4
}
